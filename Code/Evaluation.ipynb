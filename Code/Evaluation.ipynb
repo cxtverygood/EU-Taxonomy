{
 "cells": [
  {
   "cell_type": "markdown",
   "metadata": {},
   "source": [
    "# Evaluation\n",
    "Data Systems Project, Group F4"
   ]
  },
  {
   "cell_type": "code",
   "execution_count": 33,
   "metadata": {},
   "outputs": [],
   "source": [
    "import pandas as pd\n",
    "import nltk\n",
    "from wordcloud import WordCloud, STOPWORDS\n",
    "import matplotlib.pyplot as plt\n",
    "import numpy as np\n",
    "from nltk import FreqDist\n",
    "from nltk.corpus import stopwords\n",
    "from nltk.tokenize import sent_tokenize, word_tokenize\n",
    "from nltk.util import ngrams\n",
    "from textstat import flesch_reading_ease\n",
    "import re\n",
    "import string\n",
    "from scipy.stats import mannwhitneyu, ttest_ind, levene\n",
    "from statistics import median, mean"
   ]
  },
  {
   "cell_type": "code",
   "execution_count": 3,
   "metadata": {},
   "outputs": [
    {
     "name": "stderr",
     "output_type": "stream",
     "text": [
      "[nltk_data] Downloading package punkt to\n",
      "[nltk_data]     /Users/katonazsofia/nltk_data...\n",
      "[nltk_data]   Package punkt is already up-to-date!\n"
     ]
    },
    {
     "data": {
      "text/plain": [
       "True"
      ]
     },
     "execution_count": 3,
     "metadata": {},
     "output_type": "execute_result"
    }
   ],
   "source": [
    "nltk.download('punkt')"
   ]
  },
  {
   "cell_type": "markdown",
   "metadata": {},
   "source": [
    "## Loading original and text-extracted datasets"
   ]
  },
  {
   "cell_type": "code",
   "execution_count": 22,
   "metadata": {},
   "outputs": [
    {
     "data": {
      "text/html": [
       "<div>\n",
       "<style scoped>\n",
       "    .dataframe tbody tr th:only-of-type {\n",
       "        vertical-align: middle;\n",
       "    }\n",
       "\n",
       "    .dataframe tbody tr th {\n",
       "        vertical-align: top;\n",
       "    }\n",
       "\n",
       "    .dataframe thead th {\n",
       "        text-align: right;\n",
       "    }\n",
       "</style>\n",
       "<table border=\"1\" class=\"dataframe\">\n",
       "  <thead>\n",
       "    <tr style=\"text-align: right;\">\n",
       "      <th></th>\n",
       "      <th>NACE</th>\n",
       "      <th>Sector</th>\n",
       "      <th>Activity number</th>\n",
       "      <th>Activity</th>\n",
       "      <th>Contribution type</th>\n",
       "      <th>Description</th>\n",
       "      <th>Substantial contribution criteria</th>\n",
       "      <th>DNSH on Climate adaptation</th>\n",
       "      <th>DNSH on Water</th>\n",
       "      <th>DNSH on Circular economy</th>\n",
       "      <th>DNSH on Pollution prevention</th>\n",
       "      <th>DNSH on Biodiversity</th>\n",
       "      <th>Unnamed: 12</th>\n",
       "      <th>Footnotes</th>\n",
       "    </tr>\n",
       "  </thead>\n",
       "  <tbody>\n",
       "    <tr>\n",
       "      <th>0</th>\n",
       "      <td>A2</td>\n",
       "      <td>Forestry</td>\n",
       "      <td>1.1</td>\n",
       "      <td>Afforestation</td>\n",
       "      <td></td>\n",
       "      <td>Establishment of forest through planting, deli...</td>\n",
       "      <td>1. Afforestation plan and subsequent forest ma...</td>\n",
       "      <td>The activity complies with the criteria set ou...</td>\n",
       "      <td>The activity complies with the criteria set ou...</td>\n",
       "      <td></td>\n",
       "      <td>The use of pesticides is reduced and alternati...</td>\n",
       "      <td>In areas designated by the national competent ...</td>\n",
       "      <td></td>\n",
       "      <td>(1) Establishment of forest through planting o...</td>\n",
       "    </tr>\n",
       "    <tr>\n",
       "      <th>1</th>\n",
       "      <td>A2</td>\n",
       "      <td>Forestry</td>\n",
       "      <td>1.2</td>\n",
       "      <td>Rehabilitation and restoration of forests, inc...</td>\n",
       "      <td></td>\n",
       "      <td>Rehabilitation and restoration of forests as d...</td>\n",
       "      <td>1. Forest management plan or equivalent instru...</td>\n",
       "      <td>The activity complies with the criteria set ou...</td>\n",
       "      <td>The activity complies with the criteria set ou...</td>\n",
       "      <td>The silvicultural change induced by the activi...</td>\n",
       "      <td>The use of pesticides is reduced and alternati...</td>\n",
       "      <td>In areas designated by the national competent ...</td>\n",
       "      <td></td>\n",
       "      <td>(21) Forest restoration includes: (22) Ecologi...</td>\n",
       "    </tr>\n",
       "    <tr>\n",
       "      <th>2</th>\n",
       "      <td>A2</td>\n",
       "      <td>Forestry</td>\n",
       "      <td>1.3</td>\n",
       "      <td>Forest management</td>\n",
       "      <td></td>\n",
       "      <td>Forest management as defined by national law. ...</td>\n",
       "      <td>1. Forest management plan or equivalent instru...</td>\n",
       "      <td>The activity complies with the criteria set ou...</td>\n",
       "      <td>The activity complies with the criteria set ou...</td>\n",
       "      <td>The silvicultural change induced by the activi...</td>\n",
       "      <td>The use of pesticides is reduced and alternati...</td>\n",
       "      <td>In areas designated by the national competent ...</td>\n",
       "      <td></td>\n",
       "      <td>(39) Land spanning more than 0,5 hectares with...</td>\n",
       "    </tr>\n",
       "    <tr>\n",
       "      <th>3</th>\n",
       "      <td>A2</td>\n",
       "      <td>Forestry</td>\n",
       "      <td>1.4</td>\n",
       "      <td>Conservation forestry</td>\n",
       "      <td></td>\n",
       "      <td>Forest management activities with the objectiv...</td>\n",
       "      <td>1. Forest management plan or equivalent instru...</td>\n",
       "      <td>The activity complies with the criteria set ou...</td>\n",
       "      <td>The activity complies with the criteria set ou...</td>\n",
       "      <td>The silvicultural change induced by the activi...</td>\n",
       "      <td>The activity does not use pesticides or fertil...</td>\n",
       "      <td>In areas designated by the national competent ...</td>\n",
       "      <td></td>\n",
       "      <td>(50) Land spanning more than 0,5 hectares with...</td>\n",
       "    </tr>\n",
       "    <tr>\n",
       "      <th>82</th>\n",
       "      <td>F41.1, F41.2, F43</td>\n",
       "      <td>Construction and real estate</td>\n",
       "      <td>7.1</td>\n",
       "      <td>Construction of new buildings</td>\n",
       "      <td></td>\n",
       "      <td>Development of building projects for residenti...</td>\n",
       "      <td>Constructions of new buildings for which:1. Th...</td>\n",
       "      <td>The activity complies with the criteria set ou...</td>\n",
       "      <td>Where installed, except for installations in r...</td>\n",
       "      <td>At least 70 % (by weight) of the non-hazardous...</td>\n",
       "      <td>Building components and materials used in the ...</td>\n",
       "      <td>The activity complies with the criteria set ou...</td>\n",
       "      <td></td>\n",
       "      <td>(290) The calculated amount of energy needed t...</td>\n",
       "    </tr>\n",
       "  </tbody>\n",
       "</table>\n",
       "</div>"
      ],
      "text/plain": [
       "                 NACE                        Sector  Activity number  \\\n",
       "0                  A2                      Forestry              1.1   \n",
       "1                  A2                      Forestry              1.2   \n",
       "2                  A2                      Forestry              1.3   \n",
       "3                  A2                      Forestry              1.4   \n",
       "82  F41.1, F41.2, F43  Construction and real estate              7.1   \n",
       "\n",
       "                                             Activity Contribution type  \\\n",
       "0                                       Afforestation                     \n",
       "1   Rehabilitation and restoration of forests, inc...                     \n",
       "2                                   Forest management                     \n",
       "3                               Conservation forestry                     \n",
       "82                      Construction of new buildings                     \n",
       "\n",
       "                                          Description  \\\n",
       "0   Establishment of forest through planting, deli...   \n",
       "1   Rehabilitation and restoration of forests as d...   \n",
       "2   Forest management as defined by national law. ...   \n",
       "3   Forest management activities with the objectiv...   \n",
       "82  Development of building projects for residenti...   \n",
       "\n",
       "                    Substantial contribution criteria  \\\n",
       "0   1. Afforestation plan and subsequent forest ma...   \n",
       "1   1. Forest management plan or equivalent instru...   \n",
       "2   1. Forest management plan or equivalent instru...   \n",
       "3   1. Forest management plan or equivalent instru...   \n",
       "82  Constructions of new buildings for which:1. Th...   \n",
       "\n",
       "                           DNSH on Climate adaptation  \\\n",
       "0   The activity complies with the criteria set ou...   \n",
       "1   The activity complies with the criteria set ou...   \n",
       "2   The activity complies with the criteria set ou...   \n",
       "3   The activity complies with the criteria set ou...   \n",
       "82  The activity complies with the criteria set ou...   \n",
       "\n",
       "                                        DNSH on Water  \\\n",
       "0   The activity complies with the criteria set ou...   \n",
       "1   The activity complies with the criteria set ou...   \n",
       "2   The activity complies with the criteria set ou...   \n",
       "3   The activity complies with the criteria set ou...   \n",
       "82  Where installed, except for installations in r...   \n",
       "\n",
       "                             DNSH on Circular economy  \\\n",
       "0                                                       \n",
       "1   The silvicultural change induced by the activi...   \n",
       "2   The silvicultural change induced by the activi...   \n",
       "3   The silvicultural change induced by the activi...   \n",
       "82  At least 70 % (by weight) of the non-hazardous...   \n",
       "\n",
       "                         DNSH on Pollution prevention  \\\n",
       "0   The use of pesticides is reduced and alternati...   \n",
       "1   The use of pesticides is reduced and alternati...   \n",
       "2   The use of pesticides is reduced and alternati...   \n",
       "3   The activity does not use pesticides or fertil...   \n",
       "82  Building components and materials used in the ...   \n",
       "\n",
       "                                 DNSH on Biodiversity Unnamed: 12  \\\n",
       "0   In areas designated by the national competent ...               \n",
       "1   In areas designated by the national competent ...               \n",
       "2   In areas designated by the national competent ...               \n",
       "3   In areas designated by the national competent ...               \n",
       "82  The activity complies with the criteria set ou...               \n",
       "\n",
       "                                            Footnotes  \n",
       "0   (1) Establishment of forest through planting o...  \n",
       "1   (21) Forest restoration includes: (22) Ecologi...  \n",
       "2   (39) Land spanning more than 0,5 hectares with...  \n",
       "3   (50) Land spanning more than 0,5 hectares with...  \n",
       "82  (290) The calculated amount of energy needed t...  "
      ]
     },
     "execution_count": 22,
     "metadata": {},
     "output_type": "execute_result"
    }
   ],
   "source": [
    "# Loading original taxonomy.\n",
    "df = pd.read_excel(\"taxonomy.xlsx\")\n",
    "\n",
    "# Relevant sectors.\n",
    "sectors = ['Forestry', 'Construction and real estate']\n",
    "\n",
    "# Select construction sector\n",
    "df_relevant = df[df[\"Sector\"].isin(sectors)]\n",
    "\n",
    "# Handle missing values by substituting empty string.\n",
    "df_relevant = df_relevant.fillna('')\n",
    "\n",
    "df_relevant.head()"
   ]
  },
  {
   "cell_type": "code",
   "execution_count": 18,
   "metadata": {},
   "outputs": [
    {
     "data": {
      "text/html": [
       "<div>\n",
       "<style scoped>\n",
       "    .dataframe tbody tr th:only-of-type {\n",
       "        vertical-align: middle;\n",
       "    }\n",
       "\n",
       "    .dataframe tbody tr th {\n",
       "        vertical-align: top;\n",
       "    }\n",
       "\n",
       "    .dataframe thead th {\n",
       "        text-align: right;\n",
       "    }\n",
       "</style>\n",
       "<table border=\"1\" class=\"dataframe\">\n",
       "  <thead>\n",
       "    <tr style=\"text-align: right;\">\n",
       "      <th></th>\n",
       "      <th>Unnamed: 0</th>\n",
       "      <th>activity_name</th>\n",
       "      <th>node</th>\n",
       "      <th>list_of_external_resources</th>\n",
       "      <th>has_limitations</th>\n",
       "    </tr>\n",
       "  </thead>\n",
       "  <tbody>\n",
       "    <tr>\n",
       "      <th>0</th>\n",
       "      <td>0</td>\n",
       "      <td>Afforestation</td>\n",
       "      <td>1.1</td>\n",
       "      <td>['http://www.fao.org/3/I8661EN/i8661en.pdf', '...</td>\n",
       "      <td>['Afforestation implies a transformation of la...</td>\n",
       "    </tr>\n",
       "    <tr>\n",
       "      <th>1</th>\n",
       "      <td>1</td>\n",
       "      <td>Afforestation</td>\n",
       "      <td>1.1_mitigation_SubstantialContributionCriteria</td>\n",
       "      <td>['https://www.foresteurope.org/docs/other_meet...</td>\n",
       "      <td>['The afforestation plan must cover a duration...</td>\n",
       "    </tr>\n",
       "    <tr>\n",
       "      <th>2</th>\n",
       "      <td>2</td>\n",
       "      <td>Afforestation</td>\n",
       "      <td>1.1_mitigation_DNSHonClimateAdaptation</td>\n",
       "      <td>['Appendix A to this Annex']</td>\n",
       "      <td>[]</td>\n",
       "    </tr>\n",
       "    <tr>\n",
       "      <th>3</th>\n",
       "      <td>3</td>\n",
       "      <td>Afforestation</td>\n",
       "      <td>1.1_mitigation_DNSHonWater</td>\n",
       "      <td>['Appendix B to this Annex']</td>\n",
       "      <td>[]</td>\n",
       "    </tr>\n",
       "    <tr>\n",
       "      <th>4</th>\n",
       "      <td>4</td>\n",
       "      <td>Afforestation</td>\n",
       "      <td>1.1_mitigation_DNSHonCircularEconomy</td>\n",
       "      <td>[]</td>\n",
       "      <td>[]</td>\n",
       "    </tr>\n",
       "  </tbody>\n",
       "</table>\n",
       "</div>"
      ],
      "text/plain": [
       "   Unnamed: 0  activity_name                                            node  \\\n",
       "0           0  Afforestation                                             1.1   \n",
       "1           1  Afforestation  1.1_mitigation_SubstantialContributionCriteria   \n",
       "2           2  Afforestation          1.1_mitigation_DNSHonClimateAdaptation   \n",
       "3           3  Afforestation                      1.1_mitigation_DNSHonWater   \n",
       "4           4  Afforestation            1.1_mitigation_DNSHonCircularEconomy   \n",
       "\n",
       "                          list_of_external_resources  \\\n",
       "0  ['http://www.fao.org/3/I8661EN/i8661en.pdf', '...   \n",
       "1  ['https://www.foresteurope.org/docs/other_meet...   \n",
       "2                       ['Appendix A to this Annex']   \n",
       "3                       ['Appendix B to this Annex']   \n",
       "4                                                 []   \n",
       "\n",
       "                                     has_limitations  \n",
       "0  ['Afforestation implies a transformation of la...  \n",
       "1  ['The afforestation plan must cover a duration...  \n",
       "2                                                 []  \n",
       "3                                                 []  \n",
       "4                                                 []  "
      ]
     },
     "execution_count": 18,
     "metadata": {},
     "output_type": "execute_result"
    }
   ],
   "source": [
    "# Loading text-extracted information.\n",
    "\n",
    "objectives = ['mitigation', 'adaptation']\n",
    "sectors = ['forestry', 'construction']\n",
    "\n",
    "ex_dfs = [pd.read_csv(f'extracted_{objective}_{sector}.csv') \\\n",
    "                      for objective in objectives for sector in sectors]\n",
    "\n",
    "ex_df = pd.concat(ex_dfs, axis=0, ignore_index=True)\n",
    "\n",
    "ex_df.head()"
   ]
  },
  {
   "cell_type": "code",
   "execution_count": 23,
   "metadata": {},
   "outputs": [
    {
     "name": "stdout",
     "output_type": "stream",
     "text": [
      "Name of free text columns:\n",
      "Substantial contribution criteria\n",
      "DNSH on Climate adaptation\n",
      "DNSH on Water\n",
      "DNSH on Circular economy\n",
      "DNSH on Pollution prevention\n",
      "DNSH on Biodiversity\n"
     ]
    }
   ],
   "source": [
    "text_col_indeces = [i for i in range(6,12)]\n",
    "\n",
    "text_col_names = [name for name in df_relevant.columns[text_col_indeces[0]:text_col_indeces[-1]+1]]\n",
    "\n",
    "print('Name of free text columns:')\n",
    "for name in text_col_names:\n",
    "    print(name)"
   ]
  },
  {
   "cell_type": "markdown",
   "metadata": {},
   "source": [
    "## Comparing reading ease\n",
    "\n",
    "This comparison is done between the original free-text bodies of the taxonomy (one per free-text column per activity) and the pieces of free text containing the extracted limitations (possibly several per free-text column per activity)."
   ]
  },
  {
   "cell_type": "code",
   "execution_count": 24,
   "metadata": {},
   "outputs": [],
   "source": [
    "fre_scores = {'Original' : [], 'Extracted' : []}\n",
    "\n",
    "for col in text_col_names:\n",
    "    for cell in df_relevant[col]:\n",
    "        if cell != '':\n",
    "            fre_scores['Original'].append(flesch_reading_ease(cell))\n",
    "\n",
    "\n",
    "for limitations in ex_df['has_limitations']:\n",
    "    for limitation in eval(limitations):\n",
    "        fre_scores['Extracted'].append(flesch_reading_ease(limitation))"
   ]
  },
  {
   "cell_type": "code",
   "execution_count": 25,
   "metadata": {},
   "outputs": [
    {
     "name": "stdout",
     "output_type": "stream",
     "text": [
      "Original number of bodies of free-text: 46\n",
      "Extracted number of bodies of free-text: 167\n"
     ]
    }
   ],
   "source": [
    "for key, scores in fre_scores.items():\n",
    "    print(f'{key} number of bodies of free-text: {len(scores)}')"
   ]
  },
  {
   "cell_type": "code",
   "execution_count": 26,
   "metadata": {},
   "outputs": [
    {
     "data": {
      "image/png": "[encoded data removed]",
      "text/plain": [
       "<Figure size 1000x500 with 2 Axes>"
      ]
     },
     "metadata": {},
     "output_type": "display_data"
    }
   ],
   "source": [
    "fig, ax = plt.subplots(1, 2, figsize=(10,5))\n",
    "fig.suptitle('Distribution of Flesch Reading Ease scores')\n",
    "\n",
    "for i, (key, scores) in enumerate(fre_scores.items()):\n",
    "    ax[i].hist(scores, color='cornflowerblue', bins=20)\n",
    "\n",
    "    ax[i].set_title(f'{key}')\n",
    "    ax[i].set_xlabel('Flesch Reading Ease Scores')\n",
    "    ax[i].set_ylabel('Frequency')\n",
    "\n",
    "plt.show()"
   ]
  },
  {
   "cell_type": "code",
   "execution_count": 36,
   "metadata": {},
   "outputs": [
    {
     "name": "stdout",
     "output_type": "stream",
     "text": [
      "Mean FRE score in original bodies of free text: 21.15\n",
      "Mean FRE score in extracted bodies of free text: 33.13\n"
     ]
    }
   ],
   "source": [
    "for key, scores in fre_scores.items():\n",
    "    print(f'Mean FRE score in {key.lower()} bodies of free text: {mean(scores):.2f}')"
   ]
  },
  {
   "cell_type": "code",
   "execution_count": 28,
   "metadata": {},
   "outputs": [
    {
     "name": "stdout",
     "output_type": "stream",
     "text": [
      "The variances are significantly different (p-value: 0.0037727276562254056)\n"
     ]
    }
   ],
   "source": [
    "statistic, p_value = levene(fre_scores['Extracted'], fre_scores['Original'])\n",
    "\n",
    "alpha = 0.05\n",
    "\n",
    "if p_value < alpha:\n",
    "    print(f\"The variances are significantly different (p-value: {p_value})\")\n",
    "else:\n",
    "    print(f\"No significant difference in variances (p-value: {p_value})\")"
   ]
  },
  {
   "cell_type": "code",
   "execution_count": 31,
   "metadata": {},
   "outputs": [
    {
     "name": "stdout",
     "output_type": "stream",
     "text": [
      "The means are significantly different (p-value: 0.04650342887729865)\n"
     ]
    }
   ],
   "source": [
    "t_statistic, p_value = ttest_ind(fre_scores['Extracted'], fre_scores['Original'], \n",
    "                                 alternative='greater', equal_var=False)\n",
    "\n",
    "# Check the p-value to determine significance\n",
    "alpha = 0.05  # Set your desired significance level\n",
    "if p_value < alpha:\n",
    "    print(f\"The means are significantly different (p-value: {p_value})\")\n",
    "else:\n",
    "    print(f\"No significant difference in means (p-value: {p_value})\")"
   ]
  },
  {
   "cell_type": "code",
   "execution_count": 30,
   "metadata": {},
   "outputs": [
    {
     "name": "stdout",
     "output_type": "stream",
     "text": [
      "The means are significantly different (p-value: 0.029908842956904977)\n"
     ]
    }
   ],
   "source": [
    "statistic, p_value = mannwhitneyu(fre_scores['Extracted'], fre_scores['Original'], alternative='greater')\n",
    "\n",
    "alpha = 0.05\n",
    "\n",
    "if p_value < alpha:\n",
    "    print(f\"The means are significantly different (p-value: {p_value})\")\n",
    "else:\n",
    "    print(f\"No significant difference in means (p-value: {p_value})\")"
   ]
  }
 ],
 "metadata": {
  "kernelspec": {
   "display_name": "base",
   "language": "python",
   "name": "python3"
  },
  "language_info": {
   "codemirror_mode": {
    "name": "ipython",
    "version": 3
   },
   "file_extension": ".py",
   "mimetype": "text/x-python",
   "name": "python",
   "nbconvert_exporter": "python",
   "pygments_lexer": "ipython3",
   "version": "3.9.18"
  }
 },
 "nbformat": 4,
 "nbformat_minor": 2
}
